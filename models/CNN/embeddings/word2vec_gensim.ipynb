{
 "cells": [
  {
   "cell_type": "code",
   "execution_count": 2,
   "metadata": {},
   "outputs": [],
   "source": [
    "import gensim"
   ]
  },
  {
   "cell_type": "code",
   "execution_count": 3,
   "metadata": {},
   "outputs": [],
   "source": [
    "import pandas as pd\n",
    "import numpy as np"
   ]
  },
  {
   "cell_type": "code",
   "execution_count": 24,
   "metadata": {},
   "outputs": [],
   "source": [
    "def word2vec_gen(fileName):\n",
    "    data = pd.read_csv(fileName,names=['Comment','Label'])\n",
    "    arr = data['Comment'].values\n",
    "    tokenarr = [l.split() for l in arr]\n",
    "    model = gensim.models.word2vec.Word2Vec(tokenarr,min_count=2)\n",
    "    model.save(fname_or_handle='./word2vec_model')\n",
    "    model.wv.save_word2vec_format('./word2vec_vec')\n",
    "    print('Finished model generation')"
   ]
  },
  {
   "cell_type": "code",
   "execution_count": 25,
   "metadata": {},
   "outputs": [],
   "source": [
    "def get_embedding(fileName='./word2vec_vec'):\n",
    "    embed_dict = dict()\n",
    "    with open(fileName) as f:\n",
    "        f.readline()\n",
    "        for l in f:\n",
    "            l = l.split()\n",
    "            key = l[0]\n",
    "            vec = np.array(l[1:],dtype='float32')\n",
    "            embed_dict[key] = vec\n",
    "    return embed_dict"
   ]
  },
  {
   "cell_type": "code",
   "execution_count": 27,
   "metadata": {},
   "outputs": [
    {
     "name": "stdout",
     "output_type": "stream",
     "text": [
      "Finished model generation\n"
     ]
    }
   ],
   "source": [
    "if __name__ == '__main__':\n",
    "    word2vec_gen('./processed.csv')"
   ]
  }
 ],
 "metadata": {
  "kernelspec": {
   "display_name": "Python 3",
   "language": "python",
   "name": "python3"
  },
  "language_info": {
   "codemirror_mode": {
    "name": "ipython",
    "version": 3
   },
   "file_extension": ".py",
   "mimetype": "text/x-python",
   "name": "python",
   "nbconvert_exporter": "python",
   "pygments_lexer": "ipython3",
   "version": "3.6.5"
  }
 },
 "nbformat": 4,
 "nbformat_minor": 2
}
