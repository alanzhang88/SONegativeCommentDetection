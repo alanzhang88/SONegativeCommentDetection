{
 "cells": [
  {
   "cell_type": "code",
   "execution_count": 1,
   "metadata": {},
   "outputs": [],
   "source": [
    "import numpy as np"
   ]
  },
  {
   "cell_type": "code",
   "execution_count": 2,
   "metadata": {},
   "outputs": [],
   "source": [
    "import pandas as pd"
   ]
  },
  {
   "cell_type": "code",
   "execution_count": 3,
   "metadata": {},
   "outputs": [],
   "source": [
    "import json"
   ]
  },
  {
   "cell_type": "code",
   "execution_count": 28,
   "metadata": {},
   "outputs": [],
   "source": [
    "filePath = '../../labeled_document2.json'"
   ]
  },
  {
   "cell_type": "code",
   "execution_count": 29,
   "metadata": {},
   "outputs": [],
   "source": [
    "with open(filePath) as f:\n",
    "    data = json.load(f)"
   ]
  },
  {
   "cell_type": "code",
   "execution_count": 38,
   "metadata": {},
   "outputs": [],
   "source": [
    "negativeComment = None\n",
    "positiveComment = None\n",
    "for i in range(len(data['Comment'])):\n",
    "    if data['CommentLabel'][i] == 0:\n",
    "        negativeComment = np.array([[data['Comment'][i],0]]) if negativeComment is None else np.insert(negativeComment,negativeComment.shape[0],[data['Comment'][i],0],0)\n",
    "    else:\n",
    "        positiveComment = np.array([[data['Comment'][i],1]]) if positiveComment is None else np.insert(positiveComment,positiveComment.shape[0],[data['Comment'][i],1],0)"
   ]
  },
  {
   "cell_type": "code",
   "execution_count": 45,
   "metadata": {},
   "outputs": [],
   "source": [
    "indexes = np.random.choice(positiveComment.shape[0],negativeComment.shape[0],replace=False)\n",
    "concatComment = np.concatenate((positiveComment[indexes],negativeComment),axis=0)\n",
    "dataframe = pd.DataFrame(concatComment)\n",
    "dataframe.to_csv('./labeled_comments.csv',header=False,index=False)"
   ]
  }
 ],
 "metadata": {
  "kernelspec": {
   "display_name": "Python 3",
   "language": "python",
   "name": "python3"
  },
  "language_info": {
   "codemirror_mode": {
    "name": "ipython",
    "version": 3
   },
   "file_extension": ".py",
   "mimetype": "text/x-python",
   "name": "python",
   "nbconvert_exporter": "python",
   "pygments_lexer": "ipython3",
   "version": "3.6.5"
  }
 },
 "nbformat": 4,
 "nbformat_minor": 2
}
