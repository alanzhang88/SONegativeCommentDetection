{
 "cells": [
  {
   "cell_type": "code",
   "execution_count": 1,
   "metadata": {},
   "outputs": [],
   "source": [
    "import math\n",
    "# from future import division\n",
    "from textblob import TextBlob as tb\n",
    "import numpy as np\n",
    "import pandas as pd\n",
    "from nltk.corpus import stopwords\n",
    "from nltk.tokenize import word_tokenize\n",
    "from nltk.stem import SnowballStemmer\n",
    "from nltk.stem import WordNetLemmatizer\n",
    "\n",
    "\n",
    "# def tf(word, blob):\n",
    "#     return blob.words.count(word) / len(blob.words)\n",
    "\n",
    "# def n_containing(word, bloblist):\n",
    "#     return sum(1 for blob in bloblist if word in blob)\n",
    "\n",
    "# def idf(word, bloblist): \n",
    "#     return math.log(len(bloblist) / (float)(1 + n_containing(word, bloblist)))\n",
    "\n",
    "# def tfidf(word, blob, bloblist):\n",
    "#     return tf(word, blob) * idf(word, bloblist)"
   ]
  },
  {
   "cell_type": "code",
   "execution_count": 2,
   "metadata": {},
   "outputs": [],
   "source": [
    "trainData = pd.read_csv('cs230db2.PostFirstIter_dima_comments.csv',encoding = \"ISO-8859-1\", error_bad_lines=False)\n",
    "comment0 = trainData['Comments.0'].values.tolist()\n",
    "comment1 = trainData['Comments.1'].values.tolist()\n",
    "comment2 = trainData['Comments.2'].values.tolist()\n",
    "comment3 = trainData['Comments.3'].values.tolist()\n",
    "comment4 = trainData['Comments.4'].values.tolist()\n",
    "document = []\n",
    "document.extend(comment0)\n",
    "document.extend(comment1)\n",
    "document.extend(comment2)\n",
    "document.extend(comment3)\n",
    "document.extend(comment4)\n"
   ]
  },
  {
   "cell_type": "code",
   "execution_count": 3,
   "metadata": {},
   "outputs": [],
   "source": [
    "stopWords = set(['(', ')', '[', ']', '{', '}',\n",
    "                     '.', ',',':', ';','\"', \"'\"])\n",
    "stopWords.update(set(stopwords.words('english')))\n",
    "wordnetLem = WordNetLemmatizer()\n",
    "tb_document = []\n",
    "#postProcessedTrainPhrases = []\n",
    "for phrase in document:\n",
    "    if isinstance(phrase, str):\n",
    "        tokens = word_tokenize(phrase)\n",
    "        parsedWords = []\n",
    "        for t in tokens:\n",
    "            if t not in stopWords:\n",
    "                parsedWords.append(wordnetLem.lemmatize(t))\n",
    "        tb_document.extend(parsedWords)"
   ]
  },
  {
   "cell_type": "code",
   "execution_count": 9,
   "metadata": {},
   "outputs": [],
   "source": [
    "from sklearn.feature_extraction.text import TfidfVectorizer\n",
    "tfidf = TfidfVectorizer(stop_words = 'english', lowercase=True )\n",
    "tfs = tfidf.fit_transform(tb_document)\n",
    "# response = tfidf.transform(tb_document)\n",
    "# feature_names = tfidf.get_feature_names()\n",
    "# for col in response.nonzero()[1]:\n",
    "#     print(feature_names[col], ' - ', response[0, col])\n",
    "indices = np.argsort(tfidf.idf_)[::-1]\n",
    "features = tfidf.get_feature_names()\n"
   ]
  },
  {
   "cell_type": "code",
   "execution_count": 10,
   "metadata": {},
   "outputs": [
    {
     "name": "stdout",
     "output_type": "stream",
     "text": [
      "['ýäpanky', 'extprice', 'extravagant', 'extraordinary', 'extractthe', 'extracter', 'extractdata', 'extract_regex', 'extra_text', 'extra_output', 'extinguisher', 'extened', 'extinction', 'externalinterface', 'externalfunction', 'external_content', 'exterior', 'extenstion', 'extenso', 'extension_builder', 'extrcting', 'exuberance', 'exuting', 'eyebrow', 'f59eaea25f195acf', 'f56a6', 'f55759', 'f4il', 'f40', 'f3ar3dlegend', 'f3221c', 'f177hahy', 'f10', 'f01', 'ezwyzy7b', 'ezplot', 'eyidi', 'eyesore', 'eyesight', 'eyecolor', 'eyecatchup', 'extension__', 'extendedmethod', 'explae', 'explicitgcinvokesconcurrent', 'exploited', 'explodes', 'expliot', 'expline', 'explination', 'explictly', 'explict', 'explicity', 'explicative', 'extendedatrribute', 'explication', 'explian', 'explenation', 'explcit', 'explaning', 'explanetions', 'explaing', 'explaine', 'exploits_of_a_mom', 'exploration', 'explorative', 'explosion0', 'extendedatribute', 'exst', 'exression', 'exptected', 'expressteam', 'expressive', 'expressiondark', 'expression_', 'expresion', 'exposures', 'exportservice', 'exports', 'exporter', 'expontential', 'exponential_function', 'exponation', 'explosion24', 'f62d', 'f65a83316a576e4a', 'f65d48ad5fdc2a1b', 'fahad', 'failes', 'faild', 'failconversion', 'fai', 'fahriazimov', 'fahrenheit2celsius', 'fahimparker', 'fahimparkar', 'fah', 'f7', 'fags', 'fadillah', 'fadetoggle', 'fadeto', 'fadeeffect', 'faddishworm', 'factorygirl', 'factorizing', 'failfast', 'failling', 'failt', 'failures', 'fallse', 'fallgrind', 'faller', 'falk', 'falcata', 'faking', 'faker', 'fakecsc1', 'fajr', 'fajitendradeore', 'fajax', 'faizanjehangir', 'faizan', 'faiz', 'faivre', 'faithfully', 'fainted', 'factorize', 'factorisation', 'factoring', 'fac', 'fabric', 'fabled', 'fabiopoloni', 'fabiog', 'fabiodelarias', 'fabio', 'fabi', 'fab74f83f700d76d', 'f_query_one', 'f_name', 'f_k', 'f_impl', 'f_99351ff855f50195', 'f_1', 'f_0', 'f9', 'f8', 'fabrizio', 'facade_pattern', 'factories', 'facebbok', 'factorialnumber', 'factorial2', 'factid', 'fack', 'facilty', 'facilitating', 'facilitates', 'facie', 'fach', 'facevacs', 'facets', 'facet', 'faces', 'faceplant', 'facepalms', 'facebooksdk', 'facebook_id', 'explainations', 'expiring', 'eventdispatchthread', 'examlple', 'examplesuite', 'examplestring', 'exampleeeeee', 'exampled', 'examplae', 'exampl', 'exampel', 'examp', 'examles', 'ewoks', 'examle', 'examiner', 'examination', 'examin', 'exam1', 'exactlu', 'exactlty', 'exactlly', 'exampleå_å_å_å_', 'exams', 'exaplain', 'exapmle', 'exceptionhandlers', 'exception_', 'exceptio', 'excepthook', 'excepition', 'excep', 'excels', 'excelreader', 'exceliance', 'exceladapter', 'exceedd', 'excactly', 'exc', 'exb', 'exaxtly', 'exaxctly', 'exatcly', 'ewu', 'ewb_sitesubnet', 'expirienced', 'everybodys', 'evgeniy', 'evesdropping', 'everyting', 'everythign', 'everyplay', 'everyother', 'everyline', 'everyevery', 'everybodies', 'eway', 'everton', 'evernote', 'eventstatus', 'events_order', 'events_mouse', 'eventlist', 'eventhelix', 'eventhandlingiphoneos', 'evgi', 'evhuw', 'evict', 'evideo', 'ewald', 'ew430', 'ew0seb73', 'evz', 'evyerhting', 'evtx', 'evrytime', 'evry', 'evriting', 'evqp3', 'evoquing', 'evolves', 'evolutionate', 'evolt', 'evnt', 'evilruff', 'evilmail', 'excerpts', 'exchanged', 'exchangeid', 'exixsting', 'expalin', 'expain', 'exotic', 'exonerate', 'exoncount', 'exmple', 'exlicit', 'exlain', 'exiturl', 'exchanging', 'exitsplashpage', 'exitapp', 'exit_failure', 'existin', 'existential', 'exist_', 'exim', 'exhilarating', 'expample', 'expandable', 'expandablelistview', 'expanded_url', 'expierenced', 'expeted', 'experts_', 'experssion', 'experession', 'expensively', 'expense', 'expedited', 'expectining', 'expectedvaluelist', 'expected_sentence', 'expectant', 'expecially', 'expanduser', 'expandoobjects', 'expandnode', 'expander', 'exhibited', 'exhaustively', 'exhaustion', 'excute', 'excusive', 'excuses', 'excused', 'excusatio', 'exctract', 'exctly', 'excruciatingly', 'excpept', 'excpected', 'excpect', 'excp', 'exclusivetouch', 'exclusion', 'exclu', 'exclaims', 'excite', 'exchannges', 'excutable', 'excutes', 'exhausting', 'exec_bad_access', 'exeter', 'exes', 'exercice', 'exer4', 'exept', 'exemplify', 'exemplified', 'execwthr', 'execvp', 'executions', 'executioncontext', 'execution_', 'executesecondbutton', 'executereader', 'execute_query', 'exected', 'execcommand', 'falsey', 'faltutalk', 'familiarized', 'file_browser_and_searcher', 'fileafter', 'fileadmin', 'file_to_copy_copy', 'file_skip_empty_lines', 'file_size', 'file_info', 'file_format', 'file_copy', 'file_api', 'fii', 'file_123__8', 'file_1', 'file6', 'file5', 'file4', 'fildred13', 'fild', 'filburt', 'filebefore', 'filec', 'filechannel', 'filedescriptor', 'fileparrots', 'fileowner', 'fileoutputstream', 'fileok', 'fileobserver', 'filemon', 'filemerge', 'filelds', 'fileimage', 'filehandler', 'filefield', 'fileextensionsfull', 'fileextension', 'fileexistsatpath', 'fileexistsasync', 'fileexchange', 'filedialog', 'fijas', 'figuriong', 'familier', 'fibonacci_sequence', 'fidelity', 'fiddlestick', 'fiddler2', 'fiddle2', 'ficuscr', 'fictitious', 'fiction', 'fickle', 'fibonacci_number', 'figures', 'fiamenghi', 'fhaddad78', 'fgusername', 'fgo', 'fgitw', 'fgb', 'ffwyb', 'fftshift', 'fidn', 'fiel', 'field4', 'field_id', 'figure1', 'figur', 'figment', 'fightingforalostcause', 'fightersgeneration', 'fiftysix', 'fifthly', 'fifteendays', 'fifo', 'fiesta', 'fieracapital', 'fiend', 'fieldvaluepair', 'fieldtype', 'fieldsets', 'fieldoffset', 'fieldb', 'filepathcolumn', 'filepaths', 'filereading', 'findfirstfileex', 'findpeaks', 'findpath', 'findme', 'findlargestcontour', 'findlargest', 'findjar', 'findfocus', 'findfn', 'findfirstfile', 'fileshare', 'findfilelocation', 'findelement', 'finde', 'finddistance', 'findcontours', 'findbugs', 'findas', 'findancestor', 'findreservation', 'finds', 'findsmallest', 'findtext', 'fiostream', 'finzi', 'finshed', 'finnish', 'finnell', 'fink', 'finishreceiver', 'finishes', 'finishall', 'finglish', 'fingered', 'fing', 'finest', 'fineone', 'findxxxx', 'findviewbyidfunc', 'findvalue', 'findallreferences', 'find_or_initialize', 'find_last_of', 'filming', 'film_256x144', 'fillweight', 'fillrect', 'filli', 'fillethackerranjid', 'filipet', 'filipe', 'filip', 'filing', 'fileuploader', 'fileuploadcontroller', 'filetypes', 'filesytem', 'filesystemstorage', 'filesystemobject', 'filesystem_', 'filestreaming', 'filmaj', 'films', 'find_kmers', 'filo', 'find_in_set', 'find_by_city_name', 'finction', 'financing', 'financials', 'financially', 'finalvariablestest', 'finaltext', 'finalquote', 'finalname', 'finall', 'finalizing', 'finalised', 'finalcost', 'finagle', 'filtertime', 'filter_validate_float', 'ffriend', 'fflushstdin', 'ffgvcpki', 'fateful', 'favoring', 'favorably', 'favorable', 'faux', 'fator', 'fatima', 'fatih', 'fatf1t6a', 'fated', 'fd_courtcode', 'fatals', 'fatalerror', 'fasttrack', 'fastreload', 'fastformat', 'faster_', 'fastcgi', 'fastboot', 'favorite_color', 'favourit', 'favourited', 'fawadghafoor', 'fd5', 'fd2', 'fd1', 'fck_nuovo_documenti', 'fcbinfo', 'fbviewcontroller', 'fbug', 'fbsessiondelegate', 'fbrequest', 'fbrand', 'fbml', 'fbi', 'fb55', 'fayyazkl', 'fayyazki', 'faxpageyes', 'faxcheckbox', 'fasle', 'fasil', 'fashioned_', 'faq_notes', 'faq103', 'fante', 'fantasy', 'fantastory', 'fanta', 'fann_create_from_file', 'fangled', 'fangel', 'fanfare', 'fancyboxes', 'fancyapps', 'fancier', 'fanboy', 'fanael', 'fan711', 'famliar', 'familirized', 'faq_my_site_was_hacked', 'faqcat', 'fascinated', 'faqsections', 'farsi', 'farshid', 'farrell', 'farooq', 'farming', 'farmer', 'farm', 'farlan', 'farka', 'fark', 'farinspace', 'fargemet', 'farenhait', 'fare', 'far_pointer', 'far_', 'far9v', 'fd_all_different', 'fd_courtname', 'ffffffff', 'fergusmorrow', 'fery', 'ferretallica', 'ferretalica', 'feroz', 'fernandosbs', 'fernandes', 'ferms', 'fermat', 'fergus', 'fdas', 'fereres', 'ferdinand', 'ferdiduisters', 'ferdi', 'fenwick', 'femtorgon', 'felis', 'felipeotarola', 'fest', 'fetal', 'fetch_object', 'fetchprojectbyname', 'ffff', 'fferen', 'ff_version', 'ff926074', 'ff921142', 'ff835532', 'ff796227', 'ff650316', 'ff647630', 'ff647110', 'ff505000010000000a00015634', 'ff22', 'ff20', 'ff19', 'few008sct018cb', 'fever', 'fetures', 'felipeoriani', 'felipel', 'felipeals', 'featurevectors', 'features2d', 'featurenamelist', 'featuredarticles', 'featurecounts', 'featrued', 'feat', 'feasibility', 'fearsomely', 'fea', 'fe6', 'fe5', 'fe4', 'fe3', 'fe2', 'fe1', 'fdt', 'fdb4', 'featuretype', 'featurs', 'feilding', 'feb11', 'feiel', 'fehlerverursachendes', 'fehler', 'feelin', 'feela', 'feeds', 'feedin', 'feeded', 'feedbak', 'feedbacks', 'fedup', 'fedora', 'federation', 'fedcba', 'fecha', 'fec70', 'febuary', 'eventfiringwebdriver', 'eventbrite', 'firbug', 'elcome', 'electronic_codebook_', 'electricllama', 'electriclama', 'electricity', 'eleborate', 'eldorando', 'elderscrolls', 'elder', 'elborate', 'eky', 'elbek', 'elbeen', 'elating', 'elastic', 'elapsedeventhandler', 'elapse', 'elankeeran', 'elactic', 'elefantphace', 'elegent', 'elegible', 'elektrohacker', 'elemts', 'elems', 'elemnt', 'elemlist', 'elementx1x1', 'elementtype', 'elementtree', 'elementsarr', 'elementnotfound', 'elementnames', 'elementclassname', 'elementclass', 'elementbyid', 'elementattributevalues', 'elementattribute', 'elemental', 'element11', 'elabore', 'eks', 'egorkhmelev', 'ehhm', 'eigenvalue_decomposition', 'eigenvalue_algorithm', 'eigenbase', 'eidt', 'eichstaett', 'ehy', 'ehr', 'ehlo', 'ehhhhhh', 'ekruten', 'ehhh', 'ehh', 'ehe', 'ehds3', 'ehcache', 'ehat', 'eh9yfpac', 'eh3', 'eigenvaluedecomposition', 'eigenvalues', 'eighty', 'eightynine', 'ekran_alnts', 'ekoostikmartin', 'eklues9rvak', 'ek', 'ejohn', 'ejecutar_query', 'ejb3', 'ejaz2006', 'eiyrioì_vonkauyf', 'eithout', 'eitan', 'eit', 'eisai', 'einval', 'einersantanar', 'einacio', 'eiko', 'elephants', 'elevenstring', 'elgon', 'embeddeddriver', 'emerge', 'emd_1', 'emd', 'emcascript', 'embrion', 'embracing', 'embraced', 'embodies', 'embargo', 'elias', 'embarassed', 'emax', 'emasm', 'emas', 'emanuelpirovano', 'emailvr', 'emailupdateopration', 'emailorusername', 'emerges', 'emgu', 'emiladz', 'emiliogort', 'empdepartment', 'empcode', 'empathy', 'empact', 'emotions', 'emory', 'emoji_in_the_unicode_standard', 'emmy', 'emms', 'emmm', 'emm', 'emitted', 'emiq9l1gpy3qqz', 'eminently', 'emin', 'emily', 'emiliopelaez', 'emailchk', 'emailcheck', 'email_message', 'elments', 'ello', 'elliptical', 'ellipses', 'elligible', 'elligebile', 'elkamina', 'elizabeth', 'eliza', 'elitism', 'elithrar', 'eliqak', 'elipse', 'elior', 'elion', 'elin', 'eliminaterepeats', 'eligible', 'elm', 'elno', 'email_form', 'elobarate', 'email_confirmation', 'email_advt', 'emai', 'emabled', 'elyos', 'elvis', 'elves', 'elven_rider', 'eludes', 'elucidate', 'eltel2910', 'elte', 'elshenawy000', 'elroyz', 'elowlevel', 'elobrate', 'eloborate', 'egyptian', 'egit', 'event_title', 'ecco88', 'echovariable', 'echoes', 'echoe', 'echo_me', 'echivalent', 'ececec', 'ece447', 'ece353', 'ecb_mode', 'ebay', 'ecardify', 'ec23bb2c98a244425399b82f81edd08b', 'ec1dend3oepky5z', 'ebur', 'ebs', 'ebp', 'ebooks', 'ebeniezer', 'eck', 'ecko', 'ecline', 'ecline6', 'edate', 'edata', 'edafib', 'eda_package', 'ed8yd1ha', 'ed2', 'ecuation', 'ectually', 'ecrypted', 'economical', 'ecno', 'eclispe', 'eclise', 'eclipselink', 'eclipsed', 'eclips', 'eclipe', 'eben', 'ebadf', 'eggy', 'e_semicolon_missing_in_line_before', 'earier', 'eanglish', 'ean', 'eamorr', 'eakron', 'eagerness', 'eagerly', 'each_line', 'e_pebkac', 'eavesdropper', 'e_p', 'e_doesnt_work', 'e9a6c', 'e97a', 'e8ywj', 'e86f', 'e80317', 'e7f5w83z', 'earlofego', 'earnpoints', 'earns', 'earthers', 'eav_attribute', 'eatt', 'eaten', 'easywayserver', 'easymeasure', 'easyly', 'easyinstall', 'easyelo', 'easybb', 'eastwood', 'easter', 'east', 'easliy', 'easiersaidthandone', 'easeoutbounce', 'eas', 'earthquake', 'edbcenteridlist', 'eddie', 'eddy', 'eeek', 'eeyup', 'eevn', 'eesh', 'eerily', 'eelke', 'eel', 'eek', 'eegg', 'eeeeevil', 'eddyoteh', 'eeeeeeeeeeeeeeeeeeeek', 'eeeeaaii', 'ee470551', 'ee370211', 'edwinalex', 'edwin', 'edwardclements', 'edward83', 'ef310e77', 'ef_', 'efault', 'eff', 'eggs', 'egglist', 'ege', 'egad', 'efprofiler', 'efort', 'efo', 'efg', 'efforts_', 'effortlessly', 'efford', 'efficeny', 'efficence', 'effeffe', 'effectoncollation', 'effecting', 'effected', 'educative', 'eduardo', 'eduan', 'editext', 'editcurrentrecord', 'editbox', 'editablevalueholders', 'editability', 'edit_widget', 'edit_user_interfaces', 'edit_user_interface', 'edit3', 'edit1', 'edisontus', 'edify', 'edification', 'ediblemuffin', 'edible', 'edi021']\n"
     ]
    }
   ],
   "source": [
    "top_n = 1000\n",
    "top_features = [features[i] for i in indices[:top_n]]\n",
    "print(top_features)"
   ]
  },
  {
   "cell_type": "code",
   "execution_count": null,
   "metadata": {},
   "outputs": [],
   "source": []
  }
 ],
 "metadata": {
  "kernelspec": {
   "display_name": "Python 3",
   "language": "python",
   "name": "python3"
  },
  "language_info": {
   "codemirror_mode": {
    "name": "ipython",
    "version": 3
   },
   "file_extension": ".py",
   "mimetype": "text/x-python",
   "name": "python",
   "nbconvert_exporter": "python",
   "pygments_lexer": "ipython3",
   "version": "3.5.2"
  }
 },
 "nbformat": 4,
 "nbformat_minor": 2
}
