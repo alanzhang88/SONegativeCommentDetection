{
 "cells": [
  {
   "cell_type": "code",
   "execution_count": 1,
   "metadata": {},
   "outputs": [],
   "source": [
    "import matplotlib.pyplot as plt\n",
    "import seaborn as sns\n",
    "import json\n",
    "import numpy as np\n",
    "import matplotlib.patches as mpatches\n",
    "from IPython.display import HTML, display\n",
    "import tabulate\n",
    "import pandas as pd"
   ]
  },
  {
   "cell_type": "code",
   "execution_count": 2,
   "metadata": {},
   "outputs": [],
   "source": [
    "def create_classifier(train_file, model_name, epoch, lr, ngrams, loss, dim, ws):\n",
    "    return fasttext.supervised(train_file,\n",
    "                               model_name,\n",
    "                               epoch=epoch,\n",
    "                               dim=dim,\n",
    "                               word_ngrams=ngrams,\n",
    "                               lr=lr,\n",
    "                               ws=ws,\n",
    "                               min_count=5,\n",
    "                               bucket=2000000,\n",
    "                               loss=loss)"
   ]
  },
  {
   "cell_type": "code",
   "execution_count": 5,
   "metadata": {},
   "outputs": [],
   "source": [
    "import fasttext\n",
    "from FastText import FastText\n",
    "from sklearn.metrics import confusion_matrix\n",
    "from sklearn.metrics import precision_recall_fscore_support"
   ]
  },
  {
   "cell_type": "code",
   "execution_count": 7,
   "metadata": {},
   "outputs": [
    {
     "name": "stdout",
     "output_type": "stream",
     "text": [
      "init\n",
      "Loading and preprocessing data...\n",
      "\n"
     ]
    }
   ],
   "source": [
    "# total_result = {}\n",
    "# epochs = [1]\n",
    "# lr = [0.1]\n",
    "# word_ngrams = [1]\n",
    "# loss = ['ns', 'hs', 'softmax']\n",
    "# dim = [100]\n",
    "# ws = [1]\n",
    "\n",
    "file = '../Models/LSTM/labeled_document_seconditer.json'\n",
    "train_file = 'training_seconditer.txt'\n",
    "test_file = 'testing_seconditer.txt'\n",
    "model = FastText()\n",
    "(postProcessedTrainPhrases, postProcessedTestPhrases, trainLabels, testLabels) = model.preprocessData(file)\n",
    "testSentences = model.extractText(postProcessedTestPhrases)"
   ]
  },
  {
   "cell_type": "code",
   "execution_count": 15,
   "metadata": {},
   "outputs": [],
   "source": [
    "count = 1\n",
    "total_result = {}\n",
    "epochs = [5]\n",
    "lr = [0.03, 0.05, 0.08, 0.1]\n",
    "word_ngrams = [1, 2, 3]\n",
    "loss = ['ns', 'hs', 'softmax']\n",
    "dim = [100, 200, 300]\n",
    "ws = [1, 5, 10]\n",
    "\n",
    "with open(\"ft_parameters_temp.json\", mode='w', encoding='utf-8') as f:\n",
    "    for epoch_choice in epochs:\n",
    "        for lr_choice in lr:\n",
    "            for ngrams_choice in word_ngrams:\n",
    "                for loss_choice in loss:\n",
    "                    for dim_choice in dim:\n",
    "                        for ws_choice in ws:\n",
    "                            model_name = \"ft_model_temp\"\n",
    "                            classifier = create_classifier(train_file, model_name, epoch_choice, lr_choice,\n",
    "                                                           ngrams_choice, loss_choice, dim_choice, ws_choice)\n",
    "                            res = classifier.predict(testSentences)\n",
    "                            predicted = []\n",
    "                            for i in res:\n",
    "                                predicted.append(int(i[0]))\n",
    "                            # print(predicted)\n",
    "                            total_result[count] = {}\n",
    "                            tn, fp, fn, tp = confusion_matrix(testLabels, predicted).ravel()\n",
    "                            # print(tn, fp, fn, tp)\n",
    "                            total_result[count]['confusion_matrix'] = []\n",
    "                            total_result[count]['confusion_matrix'].append(int(tn))\n",
    "                            total_result[count]['confusion_matrix'].append(int(fp))\n",
    "                            total_result[count]['confusion_matrix'].append(int(fn))\n",
    "                            total_result[count]['confusion_matrix'].append(int(tp))\n",
    "                            # print(total_result[count]['confusion_matrix'])\n",
    "                            report = precision_recall_fscore_support(testLabels, predicted)\n",
    "                            total_result[count]['precision'] = report[0][0]\n",
    "                            total_result[count]['recall'] = report[1][0]\n",
    "                            total_result[count]['fbeta_score'] = report[2][0]\n",
    "                            # print(report)\n",
    "                            # print(report.fbeta_score)\n",
    "                            total_result[count]['accuracy'] = classifier.test(test_file).precision\n",
    "                            total_result[count][\"ep\"] = epoch_choice\n",
    "                            total_result[count][\"lr\"] = lr_choice\n",
    "                            total_result[count][\"ngrams\"] = ngrams_choice\n",
    "                            total_result[count][\"loss\"] = loss_choice\n",
    "                            total_result[count][\"dim\"] = dim_choice\n",
    "                            total_result[count][\"ws\"] = ws_choice\n",
    "                            # total_result[count]['model'] = [epoch_choice, lr_choice,ngrams_choice,loss_choice, dim_choice,ws_choice]\n",
    "                            f = open(\"ft_parameters_temp.json\", 'w')\n",
    "                            f.write(json.dumps(total_result, indent=4, sort_keys=True))\n",
    "                            f.close()\n",
    "                            count += 1\n",
    "\n",
    "f = open(\"ft_parameters_all.json\", 'w+')\n",
    "f.write(json.dumps(total_result, indent=4, sort_keys=True))\n",
    "f.close()"
   ]
  },
  {
   "cell_type": "code",
   "execution_count": 16,
   "metadata": {},
   "outputs": [],
   "source": [
    "class Individual():\n",
    "    def __init__(self, epoch=1, lr=0, word_ngrams = 3, loss='ns', dim=300, ws=5,\n",
    "                 precision=0, recall=0, fbeta=0, accuracy=0, confusion_matrix=None):\n",
    "        self.epoch = epoch\n",
    "        self.lr = lr\n",
    "        self.word_ngrams = word_ngrams\n",
    "        self.loss = loss\n",
    "        self.dim = dim\n",
    "        self.ws = ws\n",
    "        self.precision = precision\n",
    "        self.recall = recall\n",
    "        self.fbeta = fbeta\n",
    "        self.accuracy = accuracy\n",
    "        self.confusion_matrix = confusion_matrix\n",
    "\n",
    "    def sort_individuals(self, individuals, param):\n",
    "        k = lambda x: int(x['1'][param])\n",
    "        individuals = sorted(individuals, key=k, reverse=True)\n",
    "        return individuals"
   ]
  },
  {
   "cell_type": "code",
   "execution_count": 34,
   "metadata": {},
   "outputs": [],
   "source": [
    "def plot_eval(inds, filename):\n",
    "    total_result = {}\n",
    "    count = 1\n",
    "    ep = 0\n",
    "    lr = 0\n",
    "    ngrams = 0\n",
    "    loss = {'ns':0, 'hs':0, 'softmax':0}\n",
    "    dim = 0\n",
    "    ws = 0\n",
    "    for i in inds:\n",
    "        if i.precision > 0.5 and i.recall > 0.3:\n",
    "            total_result[count] = {}\n",
    "            total_result[count]['confusion_matrix'] = i.confusion_matrix\n",
    "            total_result[count]['0precision'] = i.precision\n",
    "            total_result[count]['recall'] = i.recall\n",
    "            total_result[count]['fbeta_score'] = i.fbeta\n",
    "            total_result[count]['accuracy'] = i.accuracy\n",
    "            total_result[count][\"ep\"] = i.epoch\n",
    "            total_result[count][\"lr\"] = i.lr\n",
    "            total_result[count][\"ngrams\"] = i.word_ngrams\n",
    "            total_result[count][\"loss\"] = i.loss\n",
    "            total_result[count][\"dim\"] = i.dim\n",
    "            total_result[count][\"ws\"] = i.ws\n",
    "            ep += i.epoch\n",
    "            lr += i.lr\n",
    "            ngrams += i.word_ngrams\n",
    "            loss[i.loss] = loss[i.loss]+1\n",
    "            dim += i.dim\n",
    "            ws += i.ws\n",
    "            count += 1\n",
    "\n",
    "    f = open(\"parameters_all_sorted_tn.json\", 'w+')\n",
    "    f.write(json.dumps(total_result, indent=4, sort_keys=True))\n",
    "    f.close()\n",
    "#     print(ep/count)\n",
    "#     print(lr/count)\n",
    "#     print(ngrams/count)\n",
    "#     print(loss)\n",
    "#     print(dim/count)\n",
    "#     print(ws/count)\n",
    "\n",
    "    color = sns.color_palette(\"hls\", 8)\n",
    "    y1 = []\n",
    "    y2 = []\n",
    "    y3 = []\n",
    "    y4 = []\n",
    "    x = []\n",
    "    for i in range(1, count):\n",
    "        x.append(i)\n",
    "    for i in x:\n",
    "        y1.append(total_result[i]['0precision'])\n",
    "        y2.append(total_result[i]['recall'])\n",
    "        y3.append(total_result[i]['fbeta_score'])\n",
    "        # y4.append(total_result[i]['accuracy'])\n",
    "\n",
    "    plt.figure(figsize=(20,12))\n",
    "#     print(x)\n",
    "#     print(len(x))\n",
    "#     print(y1)\n",
    "#     print(len(y1))\n",
    "    ax = sns.pointplot(x, y1, alpha=0.8, color=color[1])\n",
    "    ax = sns.pointplot(x, y2, alpha=0.8, color=color[2])\n",
    "    ax = sns.pointplot(x, y3, alpha=0.8, color=color[3])\n",
    "    # sns.pointplot(x, y4, alpha=0.8, color=color[4])\n",
    "    # leg_handles = ax.get_legend_handles_labels()[0]\n",
    "    # ax.legend(leg_handles, ['precision', 'recall', 'f_score'], title='legend')\n",
    "\n",
    "    plt.ylabel('Evaluation', fontsize=12)\n",
    "    plt.xlabel('Parameters Combination Id', fontsize=12)\n",
    "    title = \"FastText Performance Evaluation (\" + filename + \")\"\n",
    "    plt.title(title, fontsize=15)\n",
    "    plt.xticks(rotation='vertical')\n",
    "    # plt.legend(['precision', 'recall', 'f_score'])\n",
    "    plt.show()\n",
    "    return total_result"
   ]
  },
  {
   "cell_type": "code",
   "execution_count": 39,
   "metadata": {},
   "outputs": [
    {
     "name": "stdout",
     "output_type": "stream",
     "text": [
      "324\n",
      "324\n"
     ]
    },
    {
     "data": {
      "image/png": "[encoded data removed]",
      "text/plain": [
       "<matplotlib.figure.Figure at 0x1a1bea8080>"
      ]
     },
     "metadata": {},
     "output_type": "display_data"
    }
   ],
   "source": [
    "with open(\"ft_parameters_all.json\") as jsondata:\n",
    "    data = json.load(jsondata)\n",
    "\n",
    "# data = json.loads(open(\"ft_parameters_all.json\").read())\n",
    "    inds = []\n",
    "    for v in data.values():\n",
    "        ind = Individual(v['ep'], v['lr'], v['ngrams'], v['loss'], v['dim'], v['ws'], v['precision'],\n",
    "                         v['recall'], v['fbeta_score'], v['accuracy'], v['confusion_matrix'])\n",
    "        inds.append(ind)\n",
    "    print(len(data))\n",
    "    print(len(data.values()))\n",
    "    # inds = sorted(inds, key=lambda x: x.confusion_matrix[0], reverse=True)\n",
    "    pop = sorted(inds, key=lambda x: x.confusion_matrix[0], reverse=True)\n",
    "    filename = \"fbeta_score sorted\"\n",
    "    total_result = plot_eval(pop, filename)"
   ]
  },
  {
   "cell_type": "code",
   "execution_count": null,
   "metadata": {},
   "outputs": [],
   "source": []
  }
 ],
 "metadata": {
  "kernelspec": {
   "display_name": "Python 3",
   "language": "python",
   "name": "python3"
  },
  "language_info": {
   "codemirror_mode": {
    "name": "ipython",
    "version": 3
   },
   "file_extension": ".py",
   "mimetype": "text/x-python",
   "name": "python",
   "nbconvert_exporter": "python",
   "pygments_lexer": "ipython3",
   "version": "3.6.4"
  }
 },
 "nbformat": 4,
 "nbformat_minor": 2
}
